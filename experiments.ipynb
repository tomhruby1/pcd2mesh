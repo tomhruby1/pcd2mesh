{
 "cells": [
  {
   "cell_type": "markdown",
   "id": "75ffc178-e88b-4659-b3b5-5cbc67d51a4a",
   "metadata": {},
   "source": [
    "# Colored pointcloud to mesh using open3d\n",
    "- http://www.open3d.org/docs/release/index.html \n",
    "- https://pymesh.readthedocs.io/en/latest/ ? "
   ]
  },
  {
   "cell_type": "code",
   "execution_count": 6,
   "id": "5446c0bb-4629-4cb2-b2db-2be39542b299",
   "metadata": {},
   "outputs": [
    {
     "name": "stdout",
     "output_type": "stream",
     "text": [
      "PointCloud with 196133 points.\n",
      "[[0.65234375 0.84686458 2.37890625]\n",
      " [0.65234375 0.83984375 2.38430572]\n",
      " [0.66737998 0.83984375 2.37890625]\n",
      " ...\n",
      " [2.00839925 2.39453125 1.88671875]\n",
      " [2.00390625 2.39488506 1.88671875]\n",
      " [2.00390625 2.39453125 1.88793314]]\n"
     ]
    }
   ],
   "source": [
    "import open3d as o3d\n",
    "import numpy as np\n",
    "import matplotlib.pyplot as plt\n",
    "\n",
    "pcd = o3d.io.read_point_cloud(\"test_data/fragment.ply\")\n",
    "print(pcd)\n",
    "print(np.asarray(pcd.points))\n",
    "\n",
    "def visualize(pcd):\n",
    "    o3d.visualization.draw_geometries([pcd],\n",
    "                                      zoom=0.3412,\n",
    "                                      front=[0.4257, -0.2125, -0.8795],\n",
    "                                      lookat=[2.6172, 2.0475, 1.532],\n",
    "                                      up=[-0.0694, -0.9768, 0.2024])\n",
    "visualize(pcd)"
   ]
  },
  {
   "cell_type": "code",
   "execution_count": 11,
   "id": "a5b83b74-51ae-4422-a92c-c69b590bcc14",
   "metadata": {},
   "outputs": [
    {
     "name": "stdout",
     "output_type": "stream",
     "text": [
      "PointCloud with 27012 points.\n"
     ]
    }
   ],
   "source": [
    "#voxelization downsample\n",
    "DOWN_VOX_SIZE = 0.02\n",
    "downpcd = pcd.voxel_down_sample(voxel_size=DOWN_VOX_SIZE)\n",
    "print(downpcd)\n",
    "visualize(downpcd)\n",
    "pcd = downpcd\n",
    "\n",
    "#TODO:\n",
    "#downsampling reduces the quality of outcoming material\n",
    "#how downsample mesh, but produce HighRes mat??"
   ]
  },
  {
   "cell_type": "markdown",
   "id": "066e2135-ef50-46c7-a3c1-52c65eb04b2c",
   "metadata": {},
   "source": [
    "# Meshing \n",
    "- http://www.open3d.org/docs/release/tutorial/geometry/surface_reconstruction.html\n"
   ]
  },
  {
   "cell_type": "code",
   "execution_count": null,
   "id": "aba89c1a-7457-4213-95a8-a8206cbf244b",
   "metadata": {},
   "outputs": [],
   "source": [
    "#alpha shapes\n",
    "alpha = 0.1\n",
    "print(f\"alpha={alpha:.3f}\")\n",
    "mesh = o3d.geometry.TriangleMesh.create_from_point_cloud_alpha_shape(pcd, alpha)\n",
    "mesh.compute_vertex_normals()\n",
    "o3d.visualization.draw_geometries([mesh], mesh_show_back_face=True)"
   ]
  },
  {
   "cell_type": "code",
   "execution_count": 17,
   "id": "805ce763-a03e-4473-8c02-62eeb5fe1b9a",
   "metadata": {},
   "outputs": [],
   "source": [
    "#ball pivoting\n",
    "radii = [0.005, 0.01, 0.02, 0.04] #radii of individual balls \n",
    "mesh = o3d.geometry.TriangleMesh.create_from_point_cloud_ball_pivoting(\n",
    "    pcd, o3d.utility.DoubleVector(radii))\n",
    "o3d.visualization.draw_geometries([mesh], mesh_show_back_face=True)"
   ]
  },
  {
   "cell_type": "code",
   "execution_count": 12,
   "id": "111d7f3f-457a-4dcd-86fe-e95a25890cda",
   "metadata": {
    "scrolled": true,
    "tags": []
   },
   "outputs": [
    {
     "name": "stdout",
     "output_type": "stream",
     "text": [
      "[Open3D DEBUG] Input Points / Samples: 27012 / 26803\n",
      "[Open3D DEBUG] #   Got kernel density: 0.118447 (s), 534.539 (MB) / 534.539 (MB) / 534 (MB)\n",
      "[Open3D DEBUG] #     Got normal field: 0.152304 (s), 534.539 (MB) / 534.539 (MB) / 534 (MB)\n",
      "[Open3D DEBUG] Point weight / Estimated Area: 3.857580e-05 / 1.042009e+00\n",
      "[Open3D DEBUG] #       Finalized tree: 0.103259 (s), 534.539 (MB) / 534.539 (MB) / 534 (MB)\n",
      "[Open3D DEBUG] #  Set FEM constraints: 0.156914 (s), 534.539 (MB) / 534.539 (MB) / 534 (MB)\n",
      "[Open3D DEBUG] #Set point constraints: 0.0281229 (s), 534.539 (MB) / 534.539 (MB) / 534 (MB)\n",
      "[Open3D DEBUG] Leaf Nodes / Active Nodes / Ghost Nodes: 542256 / 418816 / 200905\n",
      "[Open3D DEBUG] Memory Usage: 534.539 MB\n",
      "Cycle[0] Depth[0/9]:\tUpdated constraints / Got system / Solved in:  0.000 /  0.000 /  0.000\t(320.449 MB)\tNodes: 8\n",
      "CG: 5.6727e-01 -> 5.6727e-01 -> 1.4331e-07 (2.5e-07) [21966]\n",
      "Cycle[0] Depth[1/9]:\tUpdated constraints / Got system / Solved in:  0.001 /  0.000 /  0.000\t(320.449 MB)\tNodes: 27\n",
      "  GS: 7.8377e-01 -> 7.8377e-01 -> 1.0087e-03 (1.3e-03) [8]\n",
      "Cycle[0] Depth[2/9]:\tUpdated constraints / Got system / Solved in:  0.001 /  0.001 /  0.000\t(320.449 MB)\tNodes: 125\n",
      "    GS: 8.5140e-01 -> 8.5140e-01 -> 2.2957e-03 (2.7e-03) [8]\n",
      "Cycle[0] Depth[3/9]:\tUpdated constraints / Got system / Solved in:  0.001 /  0.002 /  0.000\t(320.449 MB)\tNodes: 729\n",
      "      GS: 1.1722e+00 -> 1.1722e+00 -> 6.6691e-03 (5.7e-03) [8]\n",
      "Cycle[0] Depth[4/9]:\tUpdated constraints / Got system / Solved in:  0.001 /  0.005 /  0.002\t(320.449 MB)\tNodes: 4913\n",
      "        GS: 1.4438e+00 -> 1.4438e+00 -> 1.7441e-02 (1.2e-02) [8]\n",
      "Cycle[0] Depth[5/9]:\tUpdated constraints / Got system / Solved in:  0.002 /  0.014 /  0.011\t(321.480 MB)\tNodes: 3[Open3D DEBUG] # Linear system solved: 0.294379 (s), 534.539 (MB) / 534.539 (MB) / 534 (MB)\n",
      "[Open3D DEBUG] Got average: 0.00978303 (s), 534.539 (MB) / 534.539 (MB) / 534 (MB)5937\n",
      "          GS: 1.3063e+00 -> 1.3063e+00 -> 1.5695e-02 (1.2e-02) [8]\n",
      "Cycle[0] Depth[6/9]:\tUpdated constraints / Got system / Solved in:  0.002 /  0.010 /  0.014\t(322.266 MB)\tNodes: 37312\n",
      "            GS: 1.1202e+00 -> 1.1202e+00 -> 7.5496e-03 (6.7e-03) [8]\n",
      "Cycle[0] Depth[7/9]:\tUpdated constraints / Got system / Solved in:  0.004 /  0.027 /  0.028\t(326.133 MB)\tNodes: 107760\n",
      "              GS: 6.7318e-01 -> 6.7318e-01 -> 3.5445e-03 (5.3e-03) [8]\n",
      "Cycle[0] Depth[8/9]:\tUpdated constraints / Got system / Solved in:  0.007 /  0.042 /  0.047\t(328.195 MB)\tNodes: 206344\n",
      "                GS: 2.7517e-01 -> 2.7517e-01 -> 3.7037e-04 (1.3e-03) [8]\n",
      "Cycle[0] Depth[9/9]:\tUpdated constraints / Got system / Solved in:  0.003 /  0.004 /  0.001\t(328.195 MB)\tNodes: 0\n",
      "                  GS: 0.0000e+00 -> 0.0000e+00 -> 0.0000e+00 (-nan) [8]\n",
      "Cycle[0] Depth[0/9]:\tUpdated constraints / Got system / Solved in:  0.000 /  0.000 /  0.000\t(437.992 MB)\tNodes: 8\n",
      "CG: 5.5847e-01 -> 5.5847e-01 -> 5.4606e-04 (9.8e-04) [21966\n",
      "]\n",
      "Cycle[0] Depth[1/9]:\tUpdated constraints / Got system / Solved in:  0.001 /  0.000 /  0.000\t(437.992 MB)\tNodes: 27\n",
      "  GS: 7.7364e-01 -> 7.7364e-01 -> 9.8550e-04 (1.3e-03) [8]\n",
      "Cycle[0] Depth[2/9]:\tUpdated constraints / Got system / Solved in:  0.001 /  0.000 /  0.000\t(437.992 MB)\tNodes: 125\n",
      "    GS: 8.4241e-01 -> 8.4241e-01 -> 2.3318e-03 (2.8e-03) [8]\n",
      "Cycle[0] Depth[3/9]:\tUpdated constraints / Got system / Solved in:  0.001 /  0.002 /  0.000\t(437.992 MB)\tNodes: 729\n",
      "      GS: 1.1596e+00 -> 1.1596e+00 -> 6.4504e-03 (5.6e-03) [8]\n",
      "Cycle[0] Depth[4/9]:\tUpdated constraints / Got system / Solved in:  0.001 /  0.005 /  0.002\t(438.508 MB)\tNodes: 4913\n",
      "        GS: 1.4424e+00 -> 1.4424e+00 -> 1.7376e-02 (1.2e-02) [8]\n",
      "Cycle[0] Depth[5/9]:\tUpdated constraints / Got system / Solved in:  0.002 /  0.014 /  0.011\t(440.812 MB)\tNodes: 35937\n",
      "          GS: 1.3969e+00 -> 1.3969e+00 -> 9.7969e-03 (7.0e-03) [8]\n",
      "Cycle[0] Depth[6/9]:\tUpdated constraints / Got system / Solved in:  0.003 /  0.010 /  0.013\t(441.844 MB)\tNodes: 42104\n",
      "            GS: 1.4454e+00 -> 1.4454e+00 -> 1.3902e-02 (9.6e-03) [8]\n",
      "Cycle[0] Depth[7/9]:\tUpdated constraints / Got system / Solved in:  0.004 /  0.026 /  0.029\t(446.742 MB)\tNodes: 137936\n",
      "              GS: 1.2729e+00 -> 1.2729e+00 -> 9.0421e-03 (7.1e-03) [8]\n",
      "Cycle[0] Depth[8/9]:\tUpdated constraints / Got system / Solved in:  0.010 /  0.078 /  0.085\t(455.762 MB)\tNodes: 403304\n",
      "                GS: 8.7684e-01 -> 8.7684e-01 -> 4.0658e-03 (4.6e-03) [8]\n",
      "Cycle[0] Depth[9/9]:\tUpdated constraints / Got system / Solved in:  0.010 /  0.161 /  0.166\t(460.918 MB)\tNodes: 830472\n",
      "                  GS: 4.3928e-01 -> 4.3928e-01 -> 5.3819e-04 (1.2e-03) [8]\n",
      "Cycle[0] Depth[0/9]:\tUpdated constraints / Got system / Solved in:  0.000 /  0.000 /  0.000\t(534.539 MB)\tNodes: 8\n",
      "CG: 5.6727e-01 -> 5.6727e-01 -> 1.5305e-07 (2.7e-07) [21966]\n",
      "Cycle[0] Depth[1/9]:\tUpdated constraints / Got system / Solved in:  0.001 /  0.000 /  0.000\t(534.539 MB)\tNodes: 27\n",
      "  GS: 7.8377e-01 -> 7.8377e-01 -> 1.0086e-03 (1.3e-03) [8]\n",
      "Cycle[0] Depth[2/9]:\tUpdated constraints / Got system / Solved in:  0.001 /  0.000 / [Open3D DEBUG] Iso-Value: 5.034050e-01 = 1.359798e+04 / 2.701200e+04\n",
      "[Open3D DEBUG] #          Total Solve:       2.2 (s),     537.7 (MB)\n",
      "TriangleMesh with 64416 points and 128645 triangles.\n"
     ]
    }
   ],
   "source": [
    "#poisson s. reconstruction\n",
    "depth = 11 #higher -> higher the detail\n",
    "with o3d.utility.VerbosityContextManager(o3d.utility.VerbosityLevel.Debug) as cm:\n",
    "    mesh, densities = o3d.geometry.TriangleMesh.create_from_point_cloud_poisson(pcd, depth=9)\n",
    "print(mesh)\n",
    "o3d.visualization.draw_geometries([mesh], mesh_show_back_face=True)"
   ]
  },
  {
   "cell_type": "code",
   "execution_count": 13,
   "id": "e4cc8fc3-31af-4b62-816d-a29d7068209b",
   "metadata": {},
   "outputs": [
    {
     "name": "stdout",
     "output_type": "stream",
     "text": [
      "visualize densities\n"
     ]
    }
   ],
   "source": [
    "#Ad poisson s. recon. --Remove low density vertices\n",
    "#mesh density visualization more yellow more dense\n",
    "print('visualize densities')\n",
    "densities = np.asarray(densities)\n",
    "density_colors = plt.get_cmap('plasma')(\n",
    "    (densities - densities.min()) / (densities.max() - densities.min()))\n",
    "density_colors = density_colors[:, :3]\n",
    "density_mesh = o3d.geometry.TriangleMesh()\n",
    "density_mesh.vertices = mesh.vertices\n",
    "density_mesh.triangles = mesh.triangles\n",
    "density_mesh.triangle_normals = mesh.triangle_normals\n",
    "density_mesh.vertex_colors = o3d.utility.Vector3dVector(density_colors)\n",
    "o3d.visualization.draw_geometries([density_mesh],\n",
    "                                  zoom=0.664,\n",
    "                                  front=[-0.4761, -0.4698, -0.7434],\n",
    "                                  lookat=[1.8900, 3.2596, 0.9284],\n",
    "                                  up=[0.2304, -0.8825, 0.4101])"
   ]
  },
  {
   "cell_type": "code",
   "execution_count": 14,
   "id": "78c76688-1cff-48ed-aa06-1cc0f7adff9a",
   "metadata": {},
   "outputs": [
    {
     "name": "stdout",
     "output_type": "stream",
     "text": [
      "remove low density vertices\n",
      "TriangleMesh with 57974 points and 113826 triangles.\n"
     ]
    }
   ],
   "source": [
    "print('remove low density vertices')\n",
    "vertices_to_remove = densities < np.quantile(densities, 0.1)\n",
    "mesh.remove_vertices_by_mask(vertices_to_remove)\n",
    "print(mesh)\n",
    "o3d.visualization.draw_geometries([mesh],\n",
    "                                  zoom=0.664,\n",
    "                                  front=[-0.4761, -0.4698, -0.7434],\n",
    "                                  lookat=[1.8900, 3.2596, 0.9284],\n",
    "                                  up=[0.2304, -0.8825, 0.4101])"
   ]
  },
  {
   "cell_type": "markdown",
   "id": "d59ec947-9975-4692-a410-bd04cf2d91bc",
   "metadata": {},
   "source": [
    "## Remove outliers?"
   ]
  },
  {
   "cell_type": "code",
   "execution_count": 10,
   "id": "62a24dc9-93b1-4e18-8db2-0d2dc9f4fc6e",
   "metadata": {},
   "outputs": [],
   "source": [
    "visualize(mesh)\n",
    "o3d.visualization.draw_geometries([mesh], mesh_show_wireframe=True)"
   ]
  },
  {
   "cell_type": "markdown",
   "id": "d306d672-ecc2-4300-a11c-96492e412506",
   "metadata": {
    "tags": []
   },
   "source": [
    "## Denoising\n",
    "- http://www.open3d.org/docs/release/tutorial/geometry/mesh.html#Average-filter "
   ]
  },
  {
   "cell_type": "code",
   "execution_count": 14,
   "id": "6740662b-5d39-4b90-93c0-4586e5e4bf2c",
   "metadata": {},
   "outputs": [],
   "source": [
    "#average filter\n",
    "mesh_out = mesh.filter_smooth_simple(number_of_iterations=10)\n",
    "mesh_out.compute_vertex_normals()\n",
    "o3d.visualization.draw_geometries([mesh_out])"
   ]
  },
  {
   "cell_type": "code",
   "execution_count": 33,
   "id": "af27636c-40fb-49e4-9cae-317914b85700",
   "metadata": {},
   "outputs": [],
   "source": [
    "#laplacian filter\n",
    "mesh_out = mesh.filter_smooth_laplacian(number_of_iterations=5)\n",
    "mesh_out.compute_vertex_normals()\n",
    "o3d.visualization.draw_geometries([mesh_out])"
   ]
  },
  {
   "cell_type": "code",
   "execution_count": 32,
   "id": "2cc64164-e760-4d17-8e23-10d9527d340b",
   "metadata": {},
   "outputs": [],
   "source": [
    "#taubin filter\n",
    "mesh_out = mesh.filter_smooth_taubin(number_of_iterations=10)\n",
    "mesh_out.compute_vertex_normals()\n",
    "o3d.visualization.draw_geometries([mesh_out], mesh_show_wireframe=False)"
   ]
  },
  {
   "cell_type": "markdown",
   "id": "9b50e986-a317-4d03-b62e-30b9ecbef919",
   "metadata": {},
   "source": [
    "## Mesh simplification\n",
    "- http://www.open3d.org/docs/release/tutorial/geometry/mesh.html#Mesh-simplification"
   ]
  },
  {
   "cell_type": "code",
   "execution_count": 34,
   "id": "d84dcaf9-25e1-4df7-b00a-c91eb42d5bf5",
   "metadata": {},
   "outputs": [],
   "source": [
    "o3d.visualization.draw_geometries([mesh_out], mesh_show_wireframe=True)"
   ]
  },
  {
   "cell_type": "code",
   "execution_count": null,
   "id": "0c0d2928-b23f-476f-9217-175b705631f0",
   "metadata": {},
   "outputs": [],
   "source": [
    "#vertex clustering - voxelization\n",
    "mesh_in = mesh\n",
    "voxel_size = max(mesh_in.get_max_bound() - mesh_in.get_min_bound()) / 128\n",
    "print(f'voxel_size = {voxel_size:e}')\n",
    "mesh_smp = mesh_in.simplify_vertex_clustering(\n",
    "    voxel_size=voxel_size,\n",
    "    contraction=o3d.geometry.SimplificationContraction.Average)\n",
    "print(\n",
    "    f'Simplified mesh has {len(mesh_smp.vertices)} vertices and {len(mesh_smp.triangles)} triangles'\n",
    ")\n",
    "o3d.visualization.draw_geometries([mesh_smp], mesh_show_wireframe=True)"
   ]
  },
  {
   "cell_type": "code",
   "execution_count": 16,
   "id": "005aaef4-0ae2-406f-8ba2-19c1a6d91d29",
   "metadata": {},
   "outputs": [
    {
     "name": "stdout",
     "output_type": "stream",
     "text": [
      "Simplified mesh has 3530 vertices and 6499 triangles\n"
     ]
    }
   ],
   "source": [
    "#mesh decimation\n",
    "mesh_smp = mesh.simplify_quadric_decimation(target_number_of_triangles=6500)\n",
    "print(\n",
    "    f'Simplified mesh has {len(mesh_smp.vertices)} vertices and {len(mesh_smp.triangles)} triangles'\n",
    ")\n",
    "o3d.visualization.draw_geometries([mesh_smp], mesh_show_wireframe=True)"
   ]
  },
  {
   "cell_type": "code",
   "execution_count": null,
   "id": "4caa949b-2e13-4c11-b1dc-3173b5863b5e",
   "metadata": {},
   "outputs": [],
   "source": [
    "visualize(mesh_smp)"
   ]
  },
  {
   "cell_type": "markdown",
   "id": "069ffdfa-41e9-450a-93e0-ff16ccc53c92",
   "metadata": {},
   "source": [
    "## Export"
   ]
  },
  {
   "cell_type": "code",
   "execution_count": 39,
   "id": "b86a60ce-815f-4f28-bd99-26f4b4b6fd86",
   "metadata": {
    "scrolled": true,
    "tags": []
   },
   "outputs": [
    {
     "name": "stdout",
     "output_type": "stream",
     "text": [
      "> 1.7441e-02 (1.2e-02) [8]\n",
      "Cycle[0] Depth[5/9]:\tUpdated constraints / Got system / Solved in:  0.002 /  0.014 /  0.011\t(668.547 MB)\tNodes: 35937\n",
      "          GS: 1.3063e+00 -> 1.3063e+00 -> 1.5695e-02 (1.2e-02) [8]\n",
      "Cycle[0] Depth[6/9]:\tUpdated constraints / Got system / Solved in:  0.002 /  0.009 /  0.011\t(668.547 MB)\tNodes: 37312\n",
      "            GS: 1.1202e+00 -> 1.1202e+00 -> 7.5496e-03 (6.7e-03) [8]\n",
      "Cycle[0] Depth[7/9]:\tUpdated constraints / Got system / Solved in:  0.004 /  0.021 /  0.027\t(668.547 MB)\tNodes: 107760\n",
      "              GS: 6.7318e-01 -> 6.7318e-01 -> 3.5445e-03 (5.3e-03) [8]\n",
      "Cycle[0] Depth[8/9]:\tUpdated constraints / Got system / Solved in:  0.007 /  0.041 /  0.047\t(668.547 MB)\tNodes: 206344\n",
      "                GS: 2.7517e-01 -> 2.7517e-01 -> 3.7037e-04 (1.3e-03) [8]\n",
      "Cycle[0] Depth[9/9]:\tUpdated constraints / Got system / Solved in:  0.003 /  0.004 /  0.001\t(668.547 MB)\tNodes: 0\n",
      "                  GS: 0.0000e+00 -> 0.0000e+00 -> 0.0000e+00 (-nan) [8]\n",
      "Cycle[0] Depth[0/9]:\tUpdated constraints / Got system / Solved in:  0.000 /  0.000 /  0.000\t(671.707 MB)\tNodes: 8\n",
      "CG: 5.5847e-01 -> 5.5847e-01 -> 5.4609e-04 (9.8e-04) [21923]\n",
      "Cycle[0] Depth[1/9]:\tUpdated constraints / Got system / Solved in:  0.001 /  0.000 /  0.000\t(671.707 MB)\tNodes: 27\n",
      "  GS: 7.7364e-01 -> 7.7364e-01 -> 9.8547e-04 (1.3e-03) [8]\n",
      "Cycle[0] Depth[2/9]:\tUpdated constraints / Got system / Solved in:  0.001 /  0.000 /  0.000\t(671.707 MB)\tNodes: 125\n",
      "    GS: 8.4241e-01 -> 8.4241e-01 -> 2.3318e-03 (2.8e-03) [8]\n",
      "Cycle[0] Depth[3/9]:\tUpdated constraints / Got system / Solved in:  0.001 /  0.002 /  0.000\t(671.707 MB)\tNodes: 729\n",
      "      GS: 1.1596e+00 -> 1.1596e+00 -> 6.4504e-03 (5.6e-03) [8]\n",
      "Cycle[0] Depth[4/9]:\tUpdated constraints / Got system / Solved in:  0.001 /  0.006 /  0.002\t(671.707 MB)\tNodes: 4913\n",
      "        GS: 1.4424e+00 -> 1.4424e+00 -> 1.7376e-02 (1.2e-02) [8]\n",
      "Cycle[0] Depth[5/9]:\tUpdated constraints / Got system / Solved in:  0.002 /  0.014 /  0.011\t(671.707 MB)\tNodes: 35937\n",
      "          GS: 1.3969e+00 -> 1.3969e+00 -> 9.7969e-03 (7.0e-03) [8]\n",
      "Cycle[0] Depth[6/9]:\tUpdated constraints / Got system / Solved in:  0.002 /  0.010 /  0.012\t(671.707 MB)\tNodes: 42104\n",
      "            GS: 1.4454e+00 -> 1.4454e+00 -> 1.3902e-02 (9.6e-03) [8]\n",
      "Cycle[0] Depth[7/9]:\tUpdated constraints / Got system / Solved in:  0.004 /  0.028 /  0.031\t(671.707 MB)\tNodes: 137936\n",
      "              GS: 1.2729e+00 -> 1.2729e+00 -> 9.0421e-03 (7.1e-03) [8]\n",
      "Cycle[0] Depth[8/9]:\tUpdated constraints / Got system / Solved in:  0.010 /  0.078 /  0.084\t(671.707 MB)\tNodes: 403304\n",
      "                GS: 8.7684e-01 -> 8.7684e-01 -> 4.0658e-03 (4.6e-03) [8]\n",
      "Cycle[0] Depth[9/9]:\tUpdated constraints / Got system / Solved in:  0.011 /  0.158 /  0.164\t(671.707 MB)\tNodes: 830472\n",
      "                  GS: 4.3928e-01 -> 4.3928e-01 -> 5.3819e-04 (1.2e-03) [8]\n",
      "Writing OBJ: [=======================================>] 97%\r"
     ]
    },
    {
     "data": {
      "text/plain": [
       "True"
      ]
     },
     "execution_count": 39,
     "metadata": {},
     "output_type": "execute_result"
    }
   ],
   "source": [
    "o3d.io.write_triangle_mesh(\"export/mesh_smp.obj\",\n",
    "                               mesh_smp,\n",
    "                               write_triangle_uvs=True)\n",
    "\n",
    "o3d.io.write_triangle_mesh(\"export/mesh.obj\",\n",
    "                               mesh,\n",
    "                               write_triangle_uvs=True,\n",
    "                               print_progress=True\n",
    "                               )"
   ]
  }
 ],
 "metadata": {
  "kernelspec": {
   "display_name": "3D",
   "language": "python",
   "name": "3d"
  },
  "language_info": {
   "codemirror_mode": {
    "name": "ipython",
    "version": 3
   },
   "file_extension": ".py",
   "mimetype": "text/x-python",
   "name": "python",
   "nbconvert_exporter": "python",
   "pygments_lexer": "ipython3",
   "version": "3.9.7"
  }
 },
 "nbformat": 4,
 "nbformat_minor": 5
}
